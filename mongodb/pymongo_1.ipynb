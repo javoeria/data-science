{
 "cells": [
  {
   "cell_type": "markdown",
   "metadata": {},
   "source": [
    "## MongoDB"
   ]
  },
  {
   "cell_type": "markdown",
   "metadata": {},
   "source": [
    "#### Iniciar cliente de mongo e importar librerías"
   ]
  },
  {
   "cell_type": "code",
   "execution_count": 1,
   "metadata": {},
   "outputs": [
    {
     "name": "stdout",
     "output_type": "stream",
     "text": [
      "966 documents\n"
     ]
    }
   ],
   "source": [
    "import pymongo\n",
    "import folium\n",
    "import warnings\n",
    "import pandas as pd\n",
    "import matplotlib.pyplot as plt\n",
    "from pymongo import MongoClient\n",
    "warnings.filterwarnings('ignore')\n",
    "\n",
    "connection = MongoClient('localhost', 27017)\n",
    "db = connection.twitter\n",
    "collection = db.tweets\n",
    "\n",
    "print(collection.count(), 'documents')"
   ]
  },
  {
   "cell_type": "markdown",
   "metadata": {},
   "source": [
    "#### Los 10 tweets con más retweets"
   ]
  },
  {
   "cell_type": "code",
   "execution_count": 2,
   "metadata": {},
   "outputs": [
    {
     "data": {
      "text/html": [
       "<div>\n",
       "<style scoped>\n",
       "    .dataframe tbody tr th:only-of-type {\n",
       "        vertical-align: middle;\n",
       "    }\n",
       "\n",
       "    .dataframe tbody tr th {\n",
       "        vertical-align: top;\n",
       "    }\n",
       "\n",
       "    .dataframe thead th {\n",
       "        text-align: right;\n",
       "    }\n",
       "</style>\n",
       "<table border=\"1\" class=\"dataframe\">\n",
       "  <thead>\n",
       "    <tr style=\"text-align: right;\">\n",
       "      <th></th>\n",
       "      <th>id</th>\n",
       "      <th>user</th>\n",
       "      <th>text</th>\n",
       "      <th>retweet_count</th>\n",
       "      <th>created_at</th>\n",
       "    </tr>\n",
       "  </thead>\n",
       "  <tbody>\n",
       "    <tr>\n",
       "      <th>0</th>\n",
       "      <td>594163852109094912</td>\n",
       "      <td>zeldman</td>\n",
       "      <td>RT @alex_macdonald: I will fight to support th...</td>\n",
       "      <td>9132</td>\n",
       "      <td>2015-05-01 15:37:56</td>\n",
       "    </tr>\n",
       "    <tr>\n",
       "      <th>1</th>\n",
       "      <td>594153080976998400</td>\n",
       "      <td>zeldman</td>\n",
       "      <td>RT @EliLanger: There are 2 kinds of people in ...</td>\n",
       "      <td>4061</td>\n",
       "      <td>2015-05-01 14:55:07</td>\n",
       "    </tr>\n",
       "    <tr>\n",
       "      <th>2</th>\n",
       "      <td>592371151445307392</td>\n",
       "      <td>ChelseaFC</td>\n",
       "      <td>FULL-TIME: Arsenal 0-0 @ChelseaFC. #CFCLive #A...</td>\n",
       "      <td>3804</td>\n",
       "      <td>2015-04-26 16:54:22</td>\n",
       "    </tr>\n",
       "    <tr>\n",
       "      <th>3</th>\n",
       "      <td>594153610633699329</td>\n",
       "      <td>cnnbrk</td>\n",
       "      <td>Meet Marilyn Mosby, the state's attorney who c...</td>\n",
       "      <td>3134</td>\n",
       "      <td>2015-05-01 14:57:14</td>\n",
       "    </tr>\n",
       "    <tr>\n",
       "      <th>4</th>\n",
       "      <td>592383051004542976</td>\n",
       "      <td>ChelseaFC</td>\n",
       "      <td>Mourinho on Arsenal fans' chants: 'Boring is 1...</td>\n",
       "      <td>2610</td>\n",
       "      <td>2015-04-26 17:41:39</td>\n",
       "    </tr>\n",
       "    <tr>\n",
       "      <th>5</th>\n",
       "      <td>592366832457220096</td>\n",
       "      <td>cnnbrk</td>\n",
       "      <td>The overall death toll in the #NepalQuake has ...</td>\n",
       "      <td>2146</td>\n",
       "      <td>2015-04-26 16:37:13</td>\n",
       "    </tr>\n",
       "    <tr>\n",
       "      <th>6</th>\n",
       "      <td>592371156625141760</td>\n",
       "      <td>premierleague</td>\n",
       "      <td>FULL-TIME Arsenal 0-0 Chelsea. The Blues need ...</td>\n",
       "      <td>2069</td>\n",
       "      <td>2015-04-26 16:54:24</td>\n",
       "    </tr>\n",
       "    <tr>\n",
       "      <th>7</th>\n",
       "      <td>591993187629211648</td>\n",
       "      <td>FCBarcelona</td>\n",
       "      <td>FULL TIME: There's the final whistle! #Messi &amp;...</td>\n",
       "      <td>1810</td>\n",
       "      <td>2015-04-25 15:52:29</td>\n",
       "    </tr>\n",
       "    <tr>\n",
       "      <th>8</th>\n",
       "      <td>592030680009330689</td>\n",
       "      <td>FCBarcelona</td>\n",
       "      <td>RT @JordiAlba: Hoy día especial,un año que se ...</td>\n",
       "      <td>1793</td>\n",
       "      <td>2015-04-25 18:21:28</td>\n",
       "    </tr>\n",
       "    <tr>\n",
       "      <th>9</th>\n",
       "      <td>592028831566921729</td>\n",
       "      <td>FCBarcelona</td>\n",
       "      <td>RT @3gerardpique: Gran victoria en Cornellà! S...</td>\n",
       "      <td>1661</td>\n",
       "      <td>2015-04-25 18:14:07</td>\n",
       "    </tr>\n",
       "  </tbody>\n",
       "</table>\n",
       "</div>"
      ],
      "text/plain": [
       "                   id           user  \\\n",
       "0  594163852109094912        zeldman   \n",
       "1  594153080976998400        zeldman   \n",
       "2  592371151445307392      ChelseaFC   \n",
       "3  594153610633699329         cnnbrk   \n",
       "4  592383051004542976      ChelseaFC   \n",
       "5  592366832457220096         cnnbrk   \n",
       "6  592371156625141760  premierleague   \n",
       "7  591993187629211648    FCBarcelona   \n",
       "8  592030680009330689    FCBarcelona   \n",
       "9  592028831566921729    FCBarcelona   \n",
       "\n",
       "                                                text  retweet_count  \\\n",
       "0  RT @alex_macdonald: I will fight to support th...           9132   \n",
       "1  RT @EliLanger: There are 2 kinds of people in ...           4061   \n",
       "2  FULL-TIME: Arsenal 0-0 @ChelseaFC. #CFCLive #A...           3804   \n",
       "3  Meet Marilyn Mosby, the state's attorney who c...           3134   \n",
       "4  Mourinho on Arsenal fans' chants: 'Boring is 1...           2610   \n",
       "5  The overall death toll in the #NepalQuake has ...           2146   \n",
       "6  FULL-TIME Arsenal 0-0 Chelsea. The Blues need ...           2069   \n",
       "7  FULL TIME: There's the final whistle! #Messi &...           1810   \n",
       "8  RT @JordiAlba: Hoy día especial,un año que se ...           1793   \n",
       "9  RT @3gerardpique: Gran victoria en Cornellà! S...           1661   \n",
       "\n",
       "           created_at  \n",
       "0 2015-05-01 15:37:56  \n",
       "1 2015-05-01 14:55:07  \n",
       "2 2015-04-26 16:54:22  \n",
       "3 2015-05-01 14:57:14  \n",
       "4 2015-04-26 17:41:39  \n",
       "5 2015-04-26 16:37:13  \n",
       "6 2015-04-26 16:54:24  \n",
       "7 2015-04-25 15:52:29  \n",
       "8 2015-04-25 18:21:28  \n",
       "9 2015-04-25 18:14:07  "
      ]
     },
     "execution_count": 2,
     "metadata": {},
     "output_type": "execute_result"
    }
   ],
   "source": [
    "pipeline = [\n",
    "    {'$project': \n",
    "      {\n",
    "        'id': '$id_str', 'text': '$text', 'user': '$user.screen_name',\n",
    "        'retweet_count': {'$toInt': '$retweet_count'},\n",
    "        'created_at': {'$dateFromString': {'dateString': '$created_at'}}\n",
    "      }\n",
    "    }, \n",
    "    {'$sort': {'retweet_count': -1}},\n",
    "    {'$limit': 10}\n",
    "]\n",
    "max_retweets = collection.aggregate(pipeline)\n",
    "data = pd.DataFrame(list(max_retweets), columns=['id', 'user', 'text', 'retweet_count', 'created_at'])\n",
    "data"
   ]
  },
  {
   "cell_type": "markdown",
   "metadata": {},
   "source": [
    "#### Los 10 tweets con más favoritos"
   ]
  },
  {
   "cell_type": "code",
   "execution_count": 3,
   "metadata": {},
   "outputs": [
    {
     "data": {
      "text/html": [
       "<div>\n",
       "<style scoped>\n",
       "    .dataframe tbody tr th:only-of-type {\n",
       "        vertical-align: middle;\n",
       "    }\n",
       "\n",
       "    .dataframe tbody tr th {\n",
       "        vertical-align: top;\n",
       "    }\n",
       "\n",
       "    .dataframe thead th {\n",
       "        text-align: right;\n",
       "    }\n",
       "</style>\n",
       "<table border=\"1\" class=\"dataframe\">\n",
       "  <thead>\n",
       "    <tr style=\"text-align: right;\">\n",
       "      <th></th>\n",
       "      <th>id</th>\n",
       "      <th>user</th>\n",
       "      <th>text</th>\n",
       "      <th>favorite_count</th>\n",
       "      <th>created_at</th>\n",
       "    </tr>\n",
       "  </thead>\n",
       "  <tbody>\n",
       "    <tr>\n",
       "      <th>0</th>\n",
       "      <td>592025821428191232</td>\n",
       "      <td>ultrAslan</td>\n",
       "      <td>SEN ŞAMPİYON OLACAKSINNNNNNNN! \\nSENİ SEVMEYEN...</td>\n",
       "      <td>1748</td>\n",
       "      <td>2015-04-25 18:02:09</td>\n",
       "    </tr>\n",
       "    <tr>\n",
       "      <th>1</th>\n",
       "      <td>594153610633699329</td>\n",
       "      <td>cnnbrk</td>\n",
       "      <td>Meet Marilyn Mosby, the state's attorney who c...</td>\n",
       "      <td>1721</td>\n",
       "      <td>2015-05-01 14:57:14</td>\n",
       "    </tr>\n",
       "    <tr>\n",
       "      <th>2</th>\n",
       "      <td>592030833319501824</td>\n",
       "      <td>instagram</td>\n",
       "      <td>Following the journey of two creatives and the...</td>\n",
       "      <td>1494</td>\n",
       "      <td>2015-04-25 18:22:04</td>\n",
       "    </tr>\n",
       "    <tr>\n",
       "      <th>3</th>\n",
       "      <td>594162319355158528</td>\n",
       "      <td>RT_Erdogan</td>\n",
       "      <td>Eskiler, önce yoldaş sonra yol derdi. Eğer iyi...</td>\n",
       "      <td>1311</td>\n",
       "      <td>2015-05-01 15:31:50</td>\n",
       "    </tr>\n",
       "    <tr>\n",
       "      <th>4</th>\n",
       "      <td>592383051004542976</td>\n",
       "      <td>ChelseaFC</td>\n",
       "      <td>Mourinho on Arsenal fans' chants: 'Boring is 1...</td>\n",
       "      <td>1105</td>\n",
       "      <td>2015-04-26 17:41:39</td>\n",
       "    </tr>\n",
       "    <tr>\n",
       "      <th>5</th>\n",
       "      <td>592371151445307392</td>\n",
       "      <td>ChelseaFC</td>\n",
       "      <td>FULL-TIME: Arsenal 0-0 @ChelseaFC. #CFCLive #A...</td>\n",
       "      <td>1099</td>\n",
       "      <td>2015-04-26 16:54:22</td>\n",
       "    </tr>\n",
       "    <tr>\n",
       "      <th>6</th>\n",
       "      <td>592025253620101120</td>\n",
       "      <td>SabriReyiziniz</td>\n",
       "      <td>4ncü hakem uzatmayı gösterdi :( http://t.co/OP...</td>\n",
       "      <td>1092</td>\n",
       "      <td>2015-04-25 17:59:54</td>\n",
       "    </tr>\n",
       "    <tr>\n",
       "      <th>7</th>\n",
       "      <td>591993187629211648</td>\n",
       "      <td>FCBarcelona</td>\n",
       "      <td>FULL TIME: There's the final whistle! #Messi &amp;...</td>\n",
       "      <td>1011</td>\n",
       "      <td>2015-04-25 15:52:29</td>\n",
       "    </tr>\n",
       "    <tr>\n",
       "      <th>8</th>\n",
       "      <td>592022338566234112</td>\n",
       "      <td>SabriReyiziniz</td>\n",
       "      <td>Emre Güral Volkan'ı kötürüm bıraktı :(</td>\n",
       "      <td>854</td>\n",
       "      <td>2015-04-25 17:48:19</td>\n",
       "    </tr>\n",
       "    <tr>\n",
       "      <th>9</th>\n",
       "      <td>592366832457220096</td>\n",
       "      <td>cnnbrk</td>\n",
       "      <td>The overall death toll in the #NepalQuake has ...</td>\n",
       "      <td>840</td>\n",
       "      <td>2015-04-26 16:37:13</td>\n",
       "    </tr>\n",
       "  </tbody>\n",
       "</table>\n",
       "</div>"
      ],
      "text/plain": [
       "                   id            user  \\\n",
       "0  592025821428191232       ultrAslan   \n",
       "1  594153610633699329          cnnbrk   \n",
       "2  592030833319501824       instagram   \n",
       "3  594162319355158528      RT_Erdogan   \n",
       "4  592383051004542976       ChelseaFC   \n",
       "5  592371151445307392       ChelseaFC   \n",
       "6  592025253620101120  SabriReyiziniz   \n",
       "7  591993187629211648     FCBarcelona   \n",
       "8  592022338566234112  SabriReyiziniz   \n",
       "9  592366832457220096          cnnbrk   \n",
       "\n",
       "                                                text  favorite_count  \\\n",
       "0  SEN ŞAMPİYON OLACAKSINNNNNNNN! \\nSENİ SEVMEYEN...            1748   \n",
       "1  Meet Marilyn Mosby, the state's attorney who c...            1721   \n",
       "2  Following the journey of two creatives and the...            1494   \n",
       "3  Eskiler, önce yoldaş sonra yol derdi. Eğer iyi...            1311   \n",
       "4  Mourinho on Arsenal fans' chants: 'Boring is 1...            1105   \n",
       "5  FULL-TIME: Arsenal 0-0 @ChelseaFC. #CFCLive #A...            1099   \n",
       "6  4ncü hakem uzatmayı gösterdi :( http://t.co/OP...            1092   \n",
       "7  FULL TIME: There's the final whistle! #Messi &...            1011   \n",
       "8             Emre Güral Volkan'ı kötürüm bıraktı :(             854   \n",
       "9  The overall death toll in the #NepalQuake has ...             840   \n",
       "\n",
       "           created_at  \n",
       "0 2015-04-25 18:02:09  \n",
       "1 2015-05-01 14:57:14  \n",
       "2 2015-04-25 18:22:04  \n",
       "3 2015-05-01 15:31:50  \n",
       "4 2015-04-26 17:41:39  \n",
       "5 2015-04-26 16:54:22  \n",
       "6 2015-04-25 17:59:54  \n",
       "7 2015-04-25 15:52:29  \n",
       "8 2015-04-25 17:48:19  \n",
       "9 2015-04-26 16:37:13  "
      ]
     },
     "execution_count": 3,
     "metadata": {},
     "output_type": "execute_result"
    }
   ],
   "source": [
    "pipeline = [\n",
    "    {'$project': \n",
    "      {\n",
    "        'id': '$id_str', 'text': '$text', 'user': '$user.screen_name',\n",
    "        'favorite_count': {'$toInt': '$favorite_count'},\n",
    "        'created_at': {'$dateFromString': {'dateString': '$created_at'}}\n",
    "      }\n",
    "    }, \n",
    "    {'$sort': {'favorite_count': -1}},\n",
    "    {'$limit': 10}\n",
    "]\n",
    "max_favorites = collection.aggregate(pipeline)\n",
    "data = pd.DataFrame(list(max_favorites), columns=['id', 'user', 'text', 'favorite_count', 'created_at'])\n",
    "data"
   ]
  },
  {
   "cell_type": "markdown",
   "metadata": {},
   "source": [
    "#### Ver tweets del usuario @CsharpCorner"
   ]
  },
  {
   "cell_type": "code",
   "execution_count": 4,
   "metadata": {},
   "outputs": [
    {
     "data": {
      "text/html": [
       "<div>\n",
       "<style scoped>\n",
       "    .dataframe tbody tr th:only-of-type {\n",
       "        vertical-align: middle;\n",
       "    }\n",
       "\n",
       "    .dataframe tbody tr th {\n",
       "        vertical-align: top;\n",
       "    }\n",
       "\n",
       "    .dataframe thead th {\n",
       "        text-align: right;\n",
       "    }\n",
       "</style>\n",
       "<table border=\"1\" class=\"dataframe\">\n",
       "  <thead>\n",
       "    <tr style=\"text-align: right;\">\n",
       "      <th></th>\n",
       "      <th>id</th>\n",
       "      <th>text</th>\n",
       "      <th>retweet_count</th>\n",
       "      <th>favorite_count</th>\n",
       "      <th>created_at</th>\n",
       "    </tr>\n",
       "  </thead>\n",
       "  <tbody>\n",
       "    <tr>\n",
       "      <th>0</th>\n",
       "      <td>594787680254238720</td>\n",
       "      <td>MVC For Beginners: How to Save Record Using MV...</td>\n",
       "      <td>0</td>\n",
       "      <td>1</td>\n",
       "      <td>2015-05-03 08:56:48</td>\n",
       "    </tr>\n",
       "    <tr>\n",
       "      <th>1</th>\n",
       "      <td>594762014037180416</td>\n",
       "      <td>Learn Series of How to Crack Coding Interview ...</td>\n",
       "      <td>3</td>\n",
       "      <td>3</td>\n",
       "      <td>2015-05-03 07:14:48</td>\n",
       "    </tr>\n",
       "    <tr>\n",
       "      <th>2</th>\n",
       "      <td>594754412456775681</td>\n",
       "      <td>RT @dbeniwal21: Free Ebook by @ksr007 Basic SQ...</td>\n",
       "      <td>5</td>\n",
       "      <td>0</td>\n",
       "      <td>2015-05-03 06:44:36</td>\n",
       "    </tr>\n",
       "    <tr>\n",
       "      <th>3</th>\n",
       "      <td>594165671182802945</td>\n",
       "      <td>Are you ready &amp;amp; #Excited for #Day3 #Build2...</td>\n",
       "      <td>20</td>\n",
       "      <td>4</td>\n",
       "      <td>2015-05-01 15:45:09</td>\n",
       "    </tr>\n",
       "    <tr>\n",
       "      <th>4</th>\n",
       "      <td>594165361857069056</td>\n",
       "      <td>#MicrosoftBand SDK Available Now by @mcbeniwal...</td>\n",
       "      <td>19</td>\n",
       "      <td>4</td>\n",
       "      <td>2015-05-01 15:43:55</td>\n",
       "    </tr>\n",
       "    <tr>\n",
       "      <th>5</th>\n",
       "      <td>594165244273922048</td>\n",
       "      <td>#Build2015 Day3: About to start @CsharpCorner ...</td>\n",
       "      <td>18</td>\n",
       "      <td>5</td>\n",
       "      <td>2015-05-01 15:43:27</td>\n",
       "    </tr>\n",
       "    <tr>\n",
       "      <th>6</th>\n",
       "      <td>592383013217939457</td>\n",
       "      <td>RT @mcbeniwal: Good #advice by @AnilAwadh on c...</td>\n",
       "      <td>1</td>\n",
       "      <td>0</td>\n",
       "      <td>2015-04-26 17:41:30</td>\n",
       "    </tr>\n",
       "    <tr>\n",
       "      <th>7</th>\n",
       "      <td>592025506049961985</td>\n",
       "      <td>#Xamarin Guide 8: Change the App.cs to App.xam...</td>\n",
       "      <td>0</td>\n",
       "      <td>0</td>\n",
       "      <td>2015-04-25 18:00:54</td>\n",
       "    </tr>\n",
       "    <tr>\n",
       "      <th>8</th>\n",
       "      <td>591995296189534208</td>\n",
       "      <td>ServiceController Class in Windows Service by ...</td>\n",
       "      <td>2</td>\n",
       "      <td>0</td>\n",
       "      <td>2015-04-25 16:00:52</td>\n",
       "    </tr>\n",
       "  </tbody>\n",
       "</table>\n",
       "</div>"
      ],
      "text/plain": [
       "                   id                                               text  \\\n",
       "0  594787680254238720  MVC For Beginners: How to Save Record Using MV...   \n",
       "1  594762014037180416  Learn Series of How to Crack Coding Interview ...   \n",
       "2  594754412456775681  RT @dbeniwal21: Free Ebook by @ksr007 Basic SQ...   \n",
       "3  594165671182802945  Are you ready &amp; #Excited for #Day3 #Build2...   \n",
       "4  594165361857069056  #MicrosoftBand SDK Available Now by @mcbeniwal...   \n",
       "5  594165244273922048  #Build2015 Day3: About to start @CsharpCorner ...   \n",
       "6  592383013217939457  RT @mcbeniwal: Good #advice by @AnilAwadh on c...   \n",
       "7  592025506049961985  #Xamarin Guide 8: Change the App.cs to App.xam...   \n",
       "8  591995296189534208  ServiceController Class in Windows Service by ...   \n",
       "\n",
       "   retweet_count  favorite_count          created_at  \n",
       "0              0               1 2015-05-03 08:56:48  \n",
       "1              3               3 2015-05-03 07:14:48  \n",
       "2              5               0 2015-05-03 06:44:36  \n",
       "3             20               4 2015-05-01 15:45:09  \n",
       "4             19               4 2015-05-01 15:43:55  \n",
       "5             18               5 2015-05-01 15:43:27  \n",
       "6              1               0 2015-04-26 17:41:30  \n",
       "7              0               0 2015-04-25 18:00:54  \n",
       "8              2               0 2015-04-25 16:00:52  "
      ]
     },
     "execution_count": 4,
     "metadata": {},
     "output_type": "execute_result"
    }
   ],
   "source": [
    "pipeline = [\n",
    "    {'$match': {'user.screen_name': 'CsharpCorner'}},\n",
    "    {'$project': \n",
    "      {\n",
    "        'id': '$id_str', 'text': '$text',\n",
    "        'retweet_count': {'$toInt': '$retweet_count'},\n",
    "        'favorite_count': {'$toInt': '$favorite_count'},\n",
    "        'created_at': {'$dateFromString': {'dateString': '$created_at'}}\n",
    "      }\n",
    "    }, \n",
    "    {'$sort': {'created_at': -1}}\n",
    "]\n",
    "user_tweets = collection.aggregate(pipeline)\n",
    "data = pd.DataFrame(list(user_tweets), columns=['id', 'text', 'retweet_count', 'favorite_count', 'created_at'])\n",
    "data"
   ]
  },
  {
   "cell_type": "markdown",
   "metadata": {},
   "source": [
    "#### Ver tweets con hashtag #Baltimore"
   ]
  },
  {
   "cell_type": "code",
   "execution_count": 5,
   "metadata": {},
   "outputs": [
    {
     "data": {
      "text/html": [
       "<div>\n",
       "<style scoped>\n",
       "    .dataframe tbody tr th:only-of-type {\n",
       "        vertical-align: middle;\n",
       "    }\n",
       "\n",
       "    .dataframe tbody tr th {\n",
       "        vertical-align: top;\n",
       "    }\n",
       "\n",
       "    .dataframe thead th {\n",
       "        text-align: right;\n",
       "    }\n",
       "</style>\n",
       "<table border=\"1\" class=\"dataframe\">\n",
       "  <thead>\n",
       "    <tr style=\"text-align: right;\">\n",
       "      <th></th>\n",
       "      <th>id</th>\n",
       "      <th>text</th>\n",
       "      <th>retweet_count</th>\n",
       "      <th>favorite_count</th>\n",
       "      <th>created_at</th>\n",
       "    </tr>\n",
       "  </thead>\n",
       "  <tbody>\n",
       "    <tr>\n",
       "      <th>0</th>\n",
       "      <td>594164218674294784</td>\n",
       "      <td>#Baltimore reacts to charges against six polic...</td>\n",
       "      <td>12</td>\n",
       "      <td>2</td>\n",
       "      <td>2015-05-01 15:39:23</td>\n",
       "    </tr>\n",
       "    <tr>\n",
       "      <th>1</th>\n",
       "      <td>594160878444015618</td>\n",
       "      <td>RT @BBCNewsUS: #Baltimore police union says \"n...</td>\n",
       "      <td>76</td>\n",
       "      <td>0</td>\n",
       "      <td>2015-05-01 15:26:07</td>\n",
       "    </tr>\n",
       "    <tr>\n",
       "      <th>2</th>\n",
       "      <td>594157349679464450</td>\n",
       "      <td>#Baltimore State's attorney says all 6 officer...</td>\n",
       "      <td>45</td>\n",
       "      <td>28</td>\n",
       "      <td>2015-05-01 15:12:05</td>\n",
       "    </tr>\n",
       "    <tr>\n",
       "      <th>3</th>\n",
       "      <td>594154688720830464</td>\n",
       "      <td>MORE: 6 #Baltimore officers charged in #Freddi...</td>\n",
       "      <td>68</td>\n",
       "      <td>33</td>\n",
       "      <td>2015-05-01 15:01:31</td>\n",
       "    </tr>\n",
       "    <tr>\n",
       "      <th>4</th>\n",
       "      <td>592373717117890561</td>\n",
       "      <td>RT @BBCNewsUS: ICYMI: Thousands march in #Balt...</td>\n",
       "      <td>93</td>\n",
       "      <td>0</td>\n",
       "      <td>2015-04-26 17:04:34</td>\n",
       "    </tr>\n",
       "  </tbody>\n",
       "</table>\n",
       "</div>"
      ],
      "text/plain": [
       "                   id                                               text  \\\n",
       "0  594164218674294784  #Baltimore reacts to charges against six polic...   \n",
       "1  594160878444015618  RT @BBCNewsUS: #Baltimore police union says \"n...   \n",
       "2  594157349679464450  #Baltimore State's attorney says all 6 officer...   \n",
       "3  594154688720830464  MORE: 6 #Baltimore officers charged in #Freddi...   \n",
       "4  592373717117890561  RT @BBCNewsUS: ICYMI: Thousands march in #Balt...   \n",
       "\n",
       "   retweet_count  favorite_count          created_at  \n",
       "0             12               2 2015-05-01 15:39:23  \n",
       "1             76               0 2015-05-01 15:26:07  \n",
       "2             45              28 2015-05-01 15:12:05  \n",
       "3             68              33 2015-05-01 15:01:31  \n",
       "4             93               0 2015-04-26 17:04:34  "
      ]
     },
     "execution_count": 5,
     "metadata": {},
     "output_type": "execute_result"
    }
   ],
   "source": [
    "pipeline = [\n",
    "    {'$match': {'text': {'$regex': '#Baltimore'}}},\n",
    "    {'$project': \n",
    "      {\n",
    "        'id': '$id_str', 'text': '$text',\n",
    "        'retweet_count': {'$toInt': '$retweet_count'},\n",
    "        'favorite_count': {'$toInt': '$favorite_count'},\n",
    "        'created_at': {'$dateFromString': {'dateString': '$created_at'}}\n",
    "      }\n",
    "    }, \n",
    "    {'$sort': {'created_at': -1}}\n",
    "]\n",
    "hashtag_tweets = collection.aggregate(pipeline)\n",
    "data = pd.DataFrame(list(hashtag_tweets), columns=['id', 'text', 'retweet_count', 'favorite_count', 'created_at'])\n",
    "data"
   ]
  },
  {
   "cell_type": "markdown",
   "metadata": {},
   "source": [
    "#### Mostrar la localización de un tweet"
   ]
  },
  {
   "cell_type": "code",
   "execution_count": 6,
   "metadata": {
    "scrolled": false
   },
   "outputs": [
    {
     "name": "stdout",
     "output_type": "stream",
     "text": [
      "[50.8212052, -0.13714063]\n"
     ]
    },
    {
     "data": {
      "text/html": [
       "<div style=\"width:100%;\"><div style=\"position:relative;width:100%;height:0;padding-bottom:60%;\"><iframe src=\"data:text/html;charset=utf-8;base64,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\" style=\"position:absolute;width:100%;height:100%;left:0;top:0;border:none !important;\" allowfullscreen webkitallowfullscreen mozallowfullscreen></iframe></div></div>"
      ],
      "text/plain": [
       "<folium.folium.Map at 0xc882690>"
      ]
     },
     "execution_count": 6,
     "metadata": {},
     "output_type": "execute_result"
    }
   ],
   "source": [
    "user_geo = collection.find_one({'geo': {'$ne': None}})\n",
    "coordinates = user_geo['geo']['coordinates']\n",
    "place = user_geo['place']['full_name']\n",
    "print(coordinates)\n",
    "\n",
    "m = folium.Map(location=coordinates, zoom_start=12, tiles='OpenStreetMap')\n",
    "folium.Marker(coordinates, popup=place).add_to(m)\n",
    "m"
   ]
  },
  {
   "cell_type": "markdown",
   "metadata": {},
   "source": [
    "#### El usuario con más seguidores"
   ]
  },
  {
   "cell_type": "code",
   "execution_count": 7,
   "metadata": {},
   "outputs": [
    {
     "name": "stdout",
     "output_type": "stream",
     "text": [
      "Barack Obama\n",
      "13440 tweets\n",
      "58672161 followers\n",
      "This account is run by Organizing for Action staff. Tweets from the President are signed -bo.\n"
     ]
    },
    {
     "data": {
      "text/html": [
       "<img src=\"https://avatars.io/twitter/BarackObama\"/>"
      ],
      "text/plain": [
       "<IPython.core.display.Image object>"
      ]
     },
     "execution_count": 7,
     "metadata": {},
     "output_type": "execute_result"
    }
   ],
   "source": [
    "max_followers = collection.find().sort('user.followers_count', -1).limit(1)\n",
    "user = max_followers[0]['user']\n",
    "print(user['name'])\n",
    "print(int(user['statuses_count']), 'tweets')\n",
    "print(int(user['followers_count']), 'followers')\n",
    "print(user['description'])\n",
    "\n",
    "from IPython.display import Image\n",
    "from IPython.core.display import HTML \n",
    "Image(url='https://avatars.io/twitter/'+user['screen_name'])"
   ]
  },
  {
   "cell_type": "markdown",
   "metadata": {},
   "source": [
    "#### Tweets agrupados por idioma"
   ]
  },
  {
   "cell_type": "code",
   "execution_count": 8,
   "metadata": {
    "scrolled": true
   },
   "outputs": [
    {
     "data": {
      "image/png": "[encoded data removed]",
      "text/plain": [
       "<Figure size 720x360 with 1 Axes>"
      ]
     },
     "metadata": {
      "needs_background": "light"
     },
     "output_type": "display_data"
    }
   ],
   "source": [
    "pipeline = [\n",
    "    {'$group': {'_id': '$lang', 'count': {'$sum': 1}}},\n",
    "    {'$sort': {'count': 1}}\n",
    "]\n",
    "tweets_by_lang = collection.aggregate(pipeline)\n",
    "data = pd.DataFrame(list(tweets_by_lang))\n",
    "\n",
    "plt.figure(figsize=(10, 5))\n",
    "plt.bar(data['_id'], data['count'])\n",
    "plt.show()"
   ]
  },
  {
   "cell_type": "markdown",
   "metadata": {},
   "source": [
    "#### Tweets agrupados por fuente"
   ]
  },
  {
   "cell_type": "code",
   "execution_count": 9,
   "metadata": {},
   "outputs": [
    {
     "data": {
      "image/png": "[encoded data removed]",
      "text/plain": [
       "<Figure size 720x360 with 1 Axes>"
      ]
     },
     "metadata": {},
     "output_type": "display_data"
    }
   ],
   "source": [
    "pipeline = [\n",
    "    {'$group': \n",
    "      {\n",
    "        '_id': {'$arrayElemAt': [{'$split': [{'$arrayElemAt': [{'$split': ['$source', '>']}, 1]}, '<']}, 0]},\n",
    "        'count': {'$sum': 1}\n",
    "      }\n",
    "    },\n",
    "    {'$sort': {'count': -1}},\n",
    "    {'$limit': 10}\n",
    "]\n",
    "tweets_by_source = collection.aggregate(pipeline)\n",
    "data = pd.DataFrame(list(tweets_by_source))\n",
    "\n",
    "plt.figure(figsize=(10, 5))\n",
    "plt.pie(data['count'], labels=data['_id'], autopct='%1.1f%%')\n",
    "plt.show()"
   ]
  },
  {
   "cell_type": "markdown",
   "metadata": {},
   "source": [
    "#### Los 10 tweets más recientes"
   ]
  },
  {
   "cell_type": "code",
   "execution_count": 10,
   "metadata": {},
   "outputs": [
    {
     "data": {
      "text/html": [
       "<div>\n",
       "<style scoped>\n",
       "    .dataframe tbody tr th:only-of-type {\n",
       "        vertical-align: middle;\n",
       "    }\n",
       "\n",
       "    .dataframe tbody tr th {\n",
       "        vertical-align: top;\n",
       "    }\n",
       "\n",
       "    .dataframe thead th {\n",
       "        text-align: right;\n",
       "    }\n",
       "</style>\n",
       "<table border=\"1\" class=\"dataframe\">\n",
       "  <thead>\n",
       "    <tr style=\"text-align: right;\">\n",
       "      <th></th>\n",
       "      <th>id</th>\n",
       "      <th>user</th>\n",
       "      <th>text</th>\n",
       "      <th>created_at</th>\n",
       "    </tr>\n",
       "  </thead>\n",
       "  <tbody>\n",
       "    <tr>\n",
       "      <th>0</th>\n",
       "      <td>594789566252453889</td>\n",
       "      <td>ameanmbot</td>\n",
       "      <td>RT @rvanhoepen: My @Quora answer to Is Angular...</td>\n",
       "      <td>2015-05-03 09:04:17</td>\n",
       "    </tr>\n",
       "    <tr>\n",
       "      <th>1</th>\n",
       "      <td>594789484916514816</td>\n",
       "      <td>ameanmbot</td>\n",
       "      <td>RT @kazuyadesse: 2件のコメント http://t.co/w6K1Dw6IJ...</td>\n",
       "      <td>2015-05-03 09:03:58</td>\n",
       "    </tr>\n",
       "    <tr>\n",
       "      <th>2</th>\n",
       "      <td>594789034016268288</td>\n",
       "      <td>ameanmbot</td>\n",
       "      <td>RT @haduart: Interesting #couchdb weekly http:...</td>\n",
       "      <td>2015-05-03 09:02:11</td>\n",
       "    </tr>\n",
       "    <tr>\n",
       "      <th>3</th>\n",
       "      <td>594788972854902784</td>\n",
       "      <td>mashable</td>\n",
       "      <td>An affordable, real gold Apple Watch can be yo...</td>\n",
       "      <td>2015-05-03 09:01:56</td>\n",
       "    </tr>\n",
       "    <tr>\n",
       "      <th>4</th>\n",
       "      <td>594788791329632256</td>\n",
       "      <td>ameanmbot</td>\n",
       "      <td>RT @findmjob: Backend Devloper http://t.co/7dk...</td>\n",
       "      <td>2015-05-03 09:01:13</td>\n",
       "    </tr>\n",
       "    <tr>\n",
       "      <th>5</th>\n",
       "      <td>594788703018573824</td>\n",
       "      <td>ameanmbot</td>\n",
       "      <td>RT @webinara: RT: http://t.co/38hiPyvCAL #webi...</td>\n",
       "      <td>2015-05-03 09:00:52</td>\n",
       "    </tr>\n",
       "    <tr>\n",
       "      <th>6</th>\n",
       "      <td>594788642431852544</td>\n",
       "      <td>javacodegeeks</td>\n",
       "      <td>Testing with #Mockito - Kick-ass #Java Code Ge...</td>\n",
       "      <td>2015-05-03 09:00:37</td>\n",
       "    </tr>\n",
       "    <tr>\n",
       "      <th>7</th>\n",
       "      <td>594788594570686464</td>\n",
       "      <td>Inc</td>\n",
       "      <td>9 Interview Questions Ideo Asks @IlanMochari h...</td>\n",
       "      <td>2015-05-03 09:00:26</td>\n",
       "    </tr>\n",
       "    <tr>\n",
       "      <th>8</th>\n",
       "      <td>594788595652829184</td>\n",
       "      <td>ameanmbot</td>\n",
       "      <td>RT @webcodegeeks: A canonical web test in Node...</td>\n",
       "      <td>2015-05-03 09:00:26</td>\n",
       "    </tr>\n",
       "    <tr>\n",
       "      <th>9</th>\n",
       "      <td>594788522315292673</td>\n",
       "      <td>ChelseaFC</td>\n",
       "      <td>Keep up with the Blues today... http://t.co/Em...</td>\n",
       "      <td>2015-05-03 09:00:09</td>\n",
       "    </tr>\n",
       "  </tbody>\n",
       "</table>\n",
       "</div>"
      ],
      "text/plain": [
       "                   id           user  \\\n",
       "0  594789566252453889      ameanmbot   \n",
       "1  594789484916514816      ameanmbot   \n",
       "2  594789034016268288      ameanmbot   \n",
       "3  594788972854902784       mashable   \n",
       "4  594788791329632256      ameanmbot   \n",
       "5  594788703018573824      ameanmbot   \n",
       "6  594788642431852544  javacodegeeks   \n",
       "7  594788594570686464            Inc   \n",
       "8  594788595652829184      ameanmbot   \n",
       "9  594788522315292673      ChelseaFC   \n",
       "\n",
       "                                                text          created_at  \n",
       "0  RT @rvanhoepen: My @Quora answer to Is Angular... 2015-05-03 09:04:17  \n",
       "1  RT @kazuyadesse: 2件のコメント http://t.co/w6K1Dw6IJ... 2015-05-03 09:03:58  \n",
       "2  RT @haduart: Interesting #couchdb weekly http:... 2015-05-03 09:02:11  \n",
       "3  An affordable, real gold Apple Watch can be yo... 2015-05-03 09:01:56  \n",
       "4  RT @findmjob: Backend Devloper http://t.co/7dk... 2015-05-03 09:01:13  \n",
       "5  RT @webinara: RT: http://t.co/38hiPyvCAL #webi... 2015-05-03 09:00:52  \n",
       "6  Testing with #Mockito - Kick-ass #Java Code Ge... 2015-05-03 09:00:37  \n",
       "7  9 Interview Questions Ideo Asks @IlanMochari h... 2015-05-03 09:00:26  \n",
       "8  RT @webcodegeeks: A canonical web test in Node... 2015-05-03 09:00:26  \n",
       "9  Keep up with the Blues today... http://t.co/Em... 2015-05-03 09:00:09  "
      ]
     },
     "execution_count": 10,
     "metadata": {},
     "output_type": "execute_result"
    }
   ],
   "source": [
    "pipeline = [\n",
    "    {'$project': \n",
    "      {\n",
    "        'id': '$id_str', 'text': '$text', 'user': '$user.screen_name',\n",
    "        'created_at': {'$dateFromString': {'dateString': '$created_at'}}\n",
    "      }\n",
    "    }, \n",
    "    {'$sort': {'created_at': -1}},\n",
    "    {'$limit': 10}\n",
    "]\n",
    "tweets_by_date = collection.aggregate(pipeline)\n",
    "data = pd.DataFrame(list(tweets_by_date), columns=['id', 'user', 'text', 'created_at'])\n",
    "data"
   ]
  },
  {
   "cell_type": "markdown",
   "metadata": {},
   "source": [
    "####  Los trending topics mundiales"
   ]
  },
  {
   "cell_type": "code",
   "execution_count": 11,
   "metadata": {},
   "outputs": [
    {
     "data": {
      "text/html": [
       "<div>\n",
       "<style scoped>\n",
       "    .dataframe tbody tr th:only-of-type {\n",
       "        vertical-align: middle;\n",
       "    }\n",
       "\n",
       "    .dataframe tbody tr th {\n",
       "        vertical-align: top;\n",
       "    }\n",
       "\n",
       "    .dataframe thead th {\n",
       "        text-align: right;\n",
       "    }\n",
       "</style>\n",
       "<table border=\"1\" class=\"dataframe\">\n",
       "  <thead>\n",
       "    <tr style=\"text-align: right;\">\n",
       "      <th></th>\n",
       "      <th>_id</th>\n",
       "      <th>count</th>\n",
       "    </tr>\n",
       "  </thead>\n",
       "  <tbody>\n",
       "    <tr>\n",
       "      <th>0</th>\n",
       "      <td>#FCBLive</td>\n",
       "      <td>27</td>\n",
       "    </tr>\n",
       "    <tr>\n",
       "      <th>1</th>\n",
       "      <td>#AngularJS</td>\n",
       "      <td>21</td>\n",
       "    </tr>\n",
       "    <tr>\n",
       "      <th>2</th>\n",
       "      <td>#nodejs</td>\n",
       "      <td>20</td>\n",
       "    </tr>\n",
       "    <tr>\n",
       "      <th>3</th>\n",
       "      <td>#LFC</td>\n",
       "      <td>19</td>\n",
       "    </tr>\n",
       "    <tr>\n",
       "      <th>4</th>\n",
       "      <td>#EspanyolFCB</td>\n",
       "      <td>18</td>\n",
       "    </tr>\n",
       "    <tr>\n",
       "      <th>5</th>\n",
       "      <td>#webinar</td>\n",
       "      <td>16</td>\n",
       "    </tr>\n",
       "    <tr>\n",
       "      <th>6</th>\n",
       "      <td>#IWCI</td>\n",
       "      <td>16</td>\n",
       "    </tr>\n",
       "    <tr>\n",
       "      <th>7</th>\n",
       "      <td>#GlobalMoms</td>\n",
       "      <td>14</td>\n",
       "    </tr>\n",
       "    <tr>\n",
       "      <th>8</th>\n",
       "      <td>#javascript</td>\n",
       "      <td>14</td>\n",
       "    </tr>\n",
       "    <tr>\n",
       "      <th>9</th>\n",
       "      <td>#RedBizUK</td>\n",
       "      <td>12</td>\n",
       "    </tr>\n",
       "  </tbody>\n",
       "</table>\n",
       "</div>"
      ],
      "text/plain": [
       "            _id  count\n",
       "0      #FCBLive     27\n",
       "1    #AngularJS     21\n",
       "2       #nodejs     20\n",
       "3          #LFC     19\n",
       "4  #EspanyolFCB     18\n",
       "5      #webinar     16\n",
       "6         #IWCI     16\n",
       "7   #GlobalMoms     14\n",
       "8   #javascript     14\n",
       "9     #RedBizUK     12"
      ]
     },
     "execution_count": 11,
     "metadata": {},
     "output_type": "execute_result"
    }
   ],
   "source": [
    "pipeline = [\n",
    "  {'$project':\n",
    "     {'hashtags':\n",
    "        {'$map': {\n",
    "           'input': '$entities.hashtags',\n",
    "           'as': 'entities',\n",
    "           'in': {'$concat': ['#', '$$entities.text']}\n",
    "        }},\n",
    "     }\n",
    "  },\n",
    "  {'$unwind': '$hashtags'},\n",
    "  {'$group': {'_id': '$hashtags', 'count': {'$sum': 1}}},\n",
    "  {'$sort': {'count': -1}},\n",
    "  {'$limit': 10}\n",
    "]\n",
    "trending_topics = collection.aggregate(pipeline)\n",
    "data = pd.DataFrame(list(trending_topics))\n",
    "data"
   ]
  },
  {
   "cell_type": "markdown",
   "metadata": {},
   "source": [
    "#### Geolocalización de todos los usuarios"
   ]
  },
  {
   "cell_type": "code",
   "execution_count": 12,
   "metadata": {
    "scrolled": true
   },
   "outputs": [
    {
     "data": {
      "text/html": [
       "<div style=\"width:100%;\"><div style=\"position:relative;width:100%;height:0;padding-bottom:60%;\"><iframe src=\"data:text/html;charset=utf-8;base64,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\" style=\"position:absolute;width:100%;height:100%;left:0;top:0;border:none !important;\" allowfullscreen webkitallowfullscreen mozallowfullscreen></iframe></div></div>"
      ],
      "text/plain": [
       "<folium.folium.Map at 0xdaaf4f0>"
      ]
     },
     "execution_count": 12,
     "metadata": {},
     "output_type": "execute_result"
    }
   ],
   "source": [
    "m = folium.Map(location=[40, 0], zoom_start=3, tiles='OpenStreetMap')\n",
    "list_users = list(collection.find({'place': {'$ne': None}}))\n",
    "for user in list_users:\n",
    "    place = user['place']['full_name']\n",
    "    place_box = user['place']['bounding_box']\n",
    "    folium.GeoJson(place_box, name=place).add_to(m)\n",
    "m"
   ]
  },
  {
   "cell_type": "markdown",
   "metadata": {},
   "source": [
    "#### Tweets agrupados por hora"
   ]
  },
  {
   "cell_type": "code",
   "execution_count": 13,
   "metadata": {},
   "outputs": [
    {
     "data": {
      "image/png": "[encoded data removed]",
      "text/plain": [
       "<Figure size 720x360 with 1 Axes>"
      ]
     },
     "metadata": {
      "needs_background": "light"
     },
     "output_type": "display_data"
    }
   ],
   "source": [
    "pipeline = [\n",
    "    {'$group': \n",
    "        {\n",
    "            '_id': {'$hour': {'$dateFromString': {'dateString': '$created_at'}}},\n",
    "            'count': {'$sum': 1}\n",
    "        }\n",
    "    }\n",
    "]\n",
    "tweets_by_hour = collection.aggregate(pipeline)\n",
    "data = {'_id': range(24), 'count': [0]*24}\n",
    "for hour in list(tweets_by_hour):\n",
    "    num = hour['_id']\n",
    "    data['count'][num] = hour['count']\n",
    "\n",
    "plt.figure(figsize=(10, 5))\n",
    "plt.bar(data['_id'], data['count'])\n",
    "plt.show()"
   ]
  },
  {
   "cell_type": "markdown",
   "metadata": {},
   "source": [
    "#### Usuarios agrupados por ubicación"
   ]
  },
  {
   "cell_type": "code",
   "execution_count": 14,
   "metadata": {},
   "outputs": [
    {
     "data": {
      "image/png": "[encoded data removed]",
      "text/plain": [
       "<Figure size 720x360 with 1 Axes>"
      ]
     },
     "metadata": {},
     "output_type": "display_data"
    }
   ],
   "source": [
    "pipeline = [\n",
    "    {'$group': {'_id': '$user.location', 'count': {'$sum': 1}}},\n",
    "    {'$sort': {'count': -1}},\n",
    "    {'$skip': 1},\n",
    "    {'$limit': 10}\n",
    "]\n",
    "tweets_by_lang = collection.aggregate(pipeline)\n",
    "data = pd.DataFrame(list(tweets_by_lang))\n",
    "\n",
    "plt.figure(figsize=(10, 5))\n",
    "plt.pie(data['count'], labels=data['_id'], autopct='%1.1f%%')\n",
    "plt.show()"
   ]
  },
  {
   "cell_type": "markdown",
   "metadata": {},
   "source": [
    "#### Mostrar la respuesta de un tweet"
   ]
  },
  {
   "cell_type": "code",
   "execution_count": 15,
   "metadata": {},
   "outputs": [
    {
     "name": "stdout",
     "output_type": "stream",
     "text": [
      "When your kid got her shoes wet and you don't have spare ones. http://t.co/2udr4N5WyZ - Ivan Sagalaev\n",
      "Sun Apr 26 17:20:18 +0000 2015\n",
      "|\n",
      "| (or is it \"haven't got a spare\"?) - Ivan Sagalaev\n",
      "| Sun Apr 26 17:32:14 +0000 2015\n"
     ]
    }
   ],
   "source": [
    "tweet_reply = collection.find_one({'in_reply_to_status_id': {'$ne': None}})\n",
    "tweet = collection.find_one({'id_str': tweet_reply['in_reply_to_status_id_str']})\n",
    "print(tweet['text'], '-', tweet['user']['name'])\n",
    "print(tweet['created_at'])\n",
    "print('|')\n",
    "print('|', tweet_reply['text'], '-', tweet_reply['user']['name'])\n",
    "print('|', tweet_reply['created_at'])"
   ]
  },
  {
   "cell_type": "code",
   "execution_count": null,
   "metadata": {},
   "outputs": [],
   "source": []
  }
 ],
 "metadata": {
  "kernelspec": {
   "display_name": "Python 3",
   "language": "python",
   "name": "python3"
  },
  "language_info": {
   "codemirror_mode": {
    "name": "ipython",
    "version": 3
   },
   "file_extension": ".py",
   "mimetype": "text/x-python",
   "name": "python",
   "nbconvert_exporter": "python",
   "pygments_lexer": "ipython3",
   "version": "3.7.2"
  }
 },
 "nbformat": 4,
 "nbformat_minor": 2
}
