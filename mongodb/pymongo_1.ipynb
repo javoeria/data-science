{
 "cells": [
  {
   "cell_type": "markdown",
   "metadata": {},
   "source": [
    "## MongoDB"
   ]
  },
  {
   "cell_type": "markdown",
   "metadata": {},
   "source": [
    "#### Iniciar cliente de mongo e importar librerías"
   ]
  },
  {
   "cell_type": "code",
   "execution_count": 1,
   "metadata": {},
   "outputs": [
    {
     "name": "stdout",
     "output_type": "stream",
     "text": [
      "966 documents\n"
     ]
    }
   ],
   "source": [
    "import pymongo\n",
    "import folium\n",
    "import warnings\n",
    "import pandas as pd\n",
    "import matplotlib.pyplot as plt\n",
    "from pymongo import MongoClient\n",
    "warnings.filterwarnings('ignore')\n",
    "\n",
    "connection = MongoClient('localhost', 27017)\n",
    "db = connection.twitter\n",
    "collection = db.tweets\n",
    "\n",
    "print(collection.count(), 'documents')"
   ]
  },
  {
   "cell_type": "markdown",
   "metadata": {},
   "source": [
    "#### Los 10 tweets con más retweets"
   ]
  },
  {
   "cell_type": "code",
   "execution_count": 2,
   "metadata": {},
   "outputs": [
    {
     "data": {
      "text/html": [
       "<div>\n",
       "<style scoped>\n",
       "    .dataframe tbody tr th:only-of-type {\n",
       "        vertical-align: middle;\n",
       "    }\n",
       "\n",
       "    .dataframe tbody tr th {\n",
       "        vertical-align: top;\n",
       "    }\n",
       "\n",
       "    .dataframe thead th {\n",
       "        text-align: right;\n",
       "    }\n",
       "</style>\n",
       "<table border=\"1\" class=\"dataframe\">\n",
       "  <thead>\n",
       "    <tr style=\"text-align: right;\">\n",
       "      <th></th>\n",
       "      <th>id_str</th>\n",
       "      <th>text</th>\n",
       "      <th>retweet_count</th>\n",
       "    </tr>\n",
       "  </thead>\n",
       "  <tbody>\n",
       "    <tr>\n",
       "      <th>0</th>\n",
       "      <td>594163852109094912</td>\n",
       "      <td>RT @alex_macdonald: I will fight to support th...</td>\n",
       "      <td>9132.0</td>\n",
       "    </tr>\n",
       "    <tr>\n",
       "      <th>1</th>\n",
       "      <td>594153080976998400</td>\n",
       "      <td>RT @EliLanger: There are 2 kinds of people in ...</td>\n",
       "      <td>4061.0</td>\n",
       "    </tr>\n",
       "    <tr>\n",
       "      <th>2</th>\n",
       "      <td>592371151445307392</td>\n",
       "      <td>FULL-TIME: Arsenal 0-0 @ChelseaFC. #CFCLive #A...</td>\n",
       "      <td>3804.0</td>\n",
       "    </tr>\n",
       "    <tr>\n",
       "      <th>3</th>\n",
       "      <td>594153610633699329</td>\n",
       "      <td>Meet Marilyn Mosby, the state's attorney who c...</td>\n",
       "      <td>3134.0</td>\n",
       "    </tr>\n",
       "    <tr>\n",
       "      <th>4</th>\n",
       "      <td>592383051004542976</td>\n",
       "      <td>Mourinho on Arsenal fans' chants: 'Boring is 1...</td>\n",
       "      <td>2610.0</td>\n",
       "    </tr>\n",
       "    <tr>\n",
       "      <th>5</th>\n",
       "      <td>592366832457220096</td>\n",
       "      <td>The overall death toll in the #NepalQuake has ...</td>\n",
       "      <td>2146.0</td>\n",
       "    </tr>\n",
       "    <tr>\n",
       "      <th>6</th>\n",
       "      <td>592371156625141760</td>\n",
       "      <td>FULL-TIME Arsenal 0-0 Chelsea. The Blues need ...</td>\n",
       "      <td>2069.0</td>\n",
       "    </tr>\n",
       "    <tr>\n",
       "      <th>7</th>\n",
       "      <td>591993187629211648</td>\n",
       "      <td>FULL TIME: There's the final whistle! #Messi &amp;...</td>\n",
       "      <td>1810.0</td>\n",
       "    </tr>\n",
       "    <tr>\n",
       "      <th>8</th>\n",
       "      <td>592030680009330689</td>\n",
       "      <td>RT @JordiAlba: Hoy día especial,un año que se ...</td>\n",
       "      <td>1793.0</td>\n",
       "    </tr>\n",
       "    <tr>\n",
       "      <th>9</th>\n",
       "      <td>592028831566921729</td>\n",
       "      <td>RT @3gerardpique: Gran victoria en Cornellà! S...</td>\n",
       "      <td>1661.0</td>\n",
       "    </tr>\n",
       "  </tbody>\n",
       "</table>\n",
       "</div>"
      ],
      "text/plain": [
       "               id_str                                               text  \\\n",
       "0  594163852109094912  RT @alex_macdonald: I will fight to support th...   \n",
       "1  594153080976998400  RT @EliLanger: There are 2 kinds of people in ...   \n",
       "2  592371151445307392  FULL-TIME: Arsenal 0-0 @ChelseaFC. #CFCLive #A...   \n",
       "3  594153610633699329  Meet Marilyn Mosby, the state's attorney who c...   \n",
       "4  592383051004542976  Mourinho on Arsenal fans' chants: 'Boring is 1...   \n",
       "5  592366832457220096  The overall death toll in the #NepalQuake has ...   \n",
       "6  592371156625141760  FULL-TIME Arsenal 0-0 Chelsea. The Blues need ...   \n",
       "7  591993187629211648  FULL TIME: There's the final whistle! #Messi &...   \n",
       "8  592030680009330689  RT @JordiAlba: Hoy día especial,un año que se ...   \n",
       "9  592028831566921729  RT @3gerardpique: Gran victoria en Cornellà! S...   \n",
       "\n",
       "   retweet_count  \n",
       "0         9132.0  \n",
       "1         4061.0  \n",
       "2         3804.0  \n",
       "3         3134.0  \n",
       "4         2610.0  \n",
       "5         2146.0  \n",
       "6         2069.0  \n",
       "7         1810.0  \n",
       "8         1793.0  \n",
       "9         1661.0  "
      ]
     },
     "execution_count": 2,
     "metadata": {},
     "output_type": "execute_result"
    }
   ],
   "source": [
    "max_retweets = collection.find().sort('retweet_count', -1).limit(10)\n",
    "data = pd.DataFrame(list(max_retweets), columns=['id_str', 'text', 'retweet_count'])\n",
    "data"
   ]
  },
  {
   "cell_type": "markdown",
   "metadata": {},
   "source": [
    "#### Los 10 tweets con más favoritos"
   ]
  },
  {
   "cell_type": "code",
   "execution_count": 3,
   "metadata": {},
   "outputs": [
    {
     "data": {
      "text/html": [
       "<div>\n",
       "<style scoped>\n",
       "    .dataframe tbody tr th:only-of-type {\n",
       "        vertical-align: middle;\n",
       "    }\n",
       "\n",
       "    .dataframe tbody tr th {\n",
       "        vertical-align: top;\n",
       "    }\n",
       "\n",
       "    .dataframe thead th {\n",
       "        text-align: right;\n",
       "    }\n",
       "</style>\n",
       "<table border=\"1\" class=\"dataframe\">\n",
       "  <thead>\n",
       "    <tr style=\"text-align: right;\">\n",
       "      <th></th>\n",
       "      <th>id_str</th>\n",
       "      <th>text</th>\n",
       "      <th>favorite_count</th>\n",
       "    </tr>\n",
       "  </thead>\n",
       "  <tbody>\n",
       "    <tr>\n",
       "      <th>0</th>\n",
       "      <td>592025821428191232</td>\n",
       "      <td>SEN ŞAMPİYON OLACAKSINNNNNNNN! \\nSENİ SEVMEYEN...</td>\n",
       "      <td>1748.0</td>\n",
       "    </tr>\n",
       "    <tr>\n",
       "      <th>1</th>\n",
       "      <td>594153610633699329</td>\n",
       "      <td>Meet Marilyn Mosby, the state's attorney who c...</td>\n",
       "      <td>1721.0</td>\n",
       "    </tr>\n",
       "    <tr>\n",
       "      <th>2</th>\n",
       "      <td>592030833319501824</td>\n",
       "      <td>Following the journey of two creatives and the...</td>\n",
       "      <td>1494.0</td>\n",
       "    </tr>\n",
       "    <tr>\n",
       "      <th>3</th>\n",
       "      <td>594162319355158528</td>\n",
       "      <td>Eskiler, önce yoldaş sonra yol derdi. Eğer iyi...</td>\n",
       "      <td>1311.0</td>\n",
       "    </tr>\n",
       "    <tr>\n",
       "      <th>4</th>\n",
       "      <td>592383051004542976</td>\n",
       "      <td>Mourinho on Arsenal fans' chants: 'Boring is 1...</td>\n",
       "      <td>1105.0</td>\n",
       "    </tr>\n",
       "    <tr>\n",
       "      <th>5</th>\n",
       "      <td>592371151445307392</td>\n",
       "      <td>FULL-TIME: Arsenal 0-0 @ChelseaFC. #CFCLive #A...</td>\n",
       "      <td>1099.0</td>\n",
       "    </tr>\n",
       "    <tr>\n",
       "      <th>6</th>\n",
       "      <td>592025253620101120</td>\n",
       "      <td>4ncü hakem uzatmayı gösterdi :( http://t.co/OP...</td>\n",
       "      <td>1092.0</td>\n",
       "    </tr>\n",
       "    <tr>\n",
       "      <th>7</th>\n",
       "      <td>591993187629211648</td>\n",
       "      <td>FULL TIME: There's the final whistle! #Messi &amp;...</td>\n",
       "      <td>1011.0</td>\n",
       "    </tr>\n",
       "    <tr>\n",
       "      <th>8</th>\n",
       "      <td>592022338566234112</td>\n",
       "      <td>Emre Güral Volkan'ı kötürüm bıraktı :(</td>\n",
       "      <td>854.0</td>\n",
       "    </tr>\n",
       "    <tr>\n",
       "      <th>9</th>\n",
       "      <td>592366832457220096</td>\n",
       "      <td>The overall death toll in the #NepalQuake has ...</td>\n",
       "      <td>840.0</td>\n",
       "    </tr>\n",
       "  </tbody>\n",
       "</table>\n",
       "</div>"
      ],
      "text/plain": [
       "               id_str                                               text  \\\n",
       "0  592025821428191232  SEN ŞAMPİYON OLACAKSINNNNNNNN! \\nSENİ SEVMEYEN...   \n",
       "1  594153610633699329  Meet Marilyn Mosby, the state's attorney who c...   \n",
       "2  592030833319501824  Following the journey of two creatives and the...   \n",
       "3  594162319355158528  Eskiler, önce yoldaş sonra yol derdi. Eğer iyi...   \n",
       "4  592383051004542976  Mourinho on Arsenal fans' chants: 'Boring is 1...   \n",
       "5  592371151445307392  FULL-TIME: Arsenal 0-0 @ChelseaFC. #CFCLive #A...   \n",
       "6  592025253620101120  4ncü hakem uzatmayı gösterdi :( http://t.co/OP...   \n",
       "7  591993187629211648  FULL TIME: There's the final whistle! #Messi &...   \n",
       "8  592022338566234112             Emre Güral Volkan'ı kötürüm bıraktı :(   \n",
       "9  592366832457220096  The overall death toll in the #NepalQuake has ...   \n",
       "\n",
       "   favorite_count  \n",
       "0          1748.0  \n",
       "1          1721.0  \n",
       "2          1494.0  \n",
       "3          1311.0  \n",
       "4          1105.0  \n",
       "5          1099.0  \n",
       "6          1092.0  \n",
       "7          1011.0  \n",
       "8           854.0  \n",
       "9           840.0  "
      ]
     },
     "execution_count": 3,
     "metadata": {},
     "output_type": "execute_result"
    }
   ],
   "source": [
    "max_favorites = collection.find().sort('favorite_count', -1).limit(10)\n",
    "data = pd.DataFrame(list(max_favorites), columns=['id_str', 'text', 'favorite_count'])\n",
    "data"
   ]
  },
  {
   "cell_type": "markdown",
   "metadata": {},
   "source": [
    "#### Ver  tweets del usuario @CsharpCorner"
   ]
  },
  {
   "cell_type": "code",
   "execution_count": 4,
   "metadata": {
    "scrolled": false
   },
   "outputs": [
    {
     "data": {
      "text/html": [
       "<div>\n",
       "<style scoped>\n",
       "    .dataframe tbody tr th:only-of-type {\n",
       "        vertical-align: middle;\n",
       "    }\n",
       "\n",
       "    .dataframe tbody tr th {\n",
       "        vertical-align: top;\n",
       "    }\n",
       "\n",
       "    .dataframe thead th {\n",
       "        text-align: right;\n",
       "    }\n",
       "</style>\n",
       "<table border=\"1\" class=\"dataframe\">\n",
       "  <thead>\n",
       "    <tr style=\"text-align: right;\">\n",
       "      <th></th>\n",
       "      <th>id_str</th>\n",
       "      <th>text</th>\n",
       "      <th>retweet_count</th>\n",
       "      <th>favorite_count</th>\n",
       "      <th>created_at</th>\n",
       "    </tr>\n",
       "  </thead>\n",
       "  <tbody>\n",
       "    <tr>\n",
       "      <th>0</th>\n",
       "      <td>594165361857069056</td>\n",
       "      <td>#MicrosoftBand SDK Available Now by @mcbeniwal...</td>\n",
       "      <td>19.0</td>\n",
       "      <td>4.0</td>\n",
       "      <td>Fri May 01 15:43:55 +0000 2015</td>\n",
       "    </tr>\n",
       "    <tr>\n",
       "      <th>1</th>\n",
       "      <td>594762014037180416</td>\n",
       "      <td>Learn Series of How to Crack Coding Interview ...</td>\n",
       "      <td>3.0</td>\n",
       "      <td>3.0</td>\n",
       "      <td>Sun May 03 07:14:48 +0000 2015</td>\n",
       "    </tr>\n",
       "    <tr>\n",
       "      <th>2</th>\n",
       "      <td>594754412456775681</td>\n",
       "      <td>RT @dbeniwal21: Free Ebook by @ksr007 Basic SQ...</td>\n",
       "      <td>5.0</td>\n",
       "      <td>0.0</td>\n",
       "      <td>Sun May 03 06:44:36 +0000 2015</td>\n",
       "    </tr>\n",
       "    <tr>\n",
       "      <th>3</th>\n",
       "      <td>591995296189534208</td>\n",
       "      <td>ServiceController Class in Windows Service by ...</td>\n",
       "      <td>2.0</td>\n",
       "      <td>0.0</td>\n",
       "      <td>Sat Apr 25 16:00:52 +0000 2015</td>\n",
       "    </tr>\n",
       "    <tr>\n",
       "      <th>4</th>\n",
       "      <td>592383013217939457</td>\n",
       "      <td>RT @mcbeniwal: Good #advice by @AnilAwadh on c...</td>\n",
       "      <td>1.0</td>\n",
       "      <td>0.0</td>\n",
       "      <td>Sun Apr 26 17:41:30 +0000 2015</td>\n",
       "    </tr>\n",
       "    <tr>\n",
       "      <th>5</th>\n",
       "      <td>594165671182802945</td>\n",
       "      <td>Are you ready &amp;amp; #Excited for #Day3 #Build2...</td>\n",
       "      <td>20.0</td>\n",
       "      <td>4.0</td>\n",
       "      <td>Fri May 01 15:45:09 +0000 2015</td>\n",
       "    </tr>\n",
       "    <tr>\n",
       "      <th>6</th>\n",
       "      <td>592025506049961985</td>\n",
       "      <td>#Xamarin Guide 8: Change the App.cs to App.xam...</td>\n",
       "      <td>0.0</td>\n",
       "      <td>0.0</td>\n",
       "      <td>Sat Apr 25 18:00:54 +0000 2015</td>\n",
       "    </tr>\n",
       "    <tr>\n",
       "      <th>7</th>\n",
       "      <td>594787680254238720</td>\n",
       "      <td>MVC For Beginners: How to Save Record Using MV...</td>\n",
       "      <td>0.0</td>\n",
       "      <td>1.0</td>\n",
       "      <td>Sun May 03 08:56:48 +0000 2015</td>\n",
       "    </tr>\n",
       "    <tr>\n",
       "      <th>8</th>\n",
       "      <td>594165244273922048</td>\n",
       "      <td>#Build2015 Day3: About to start @CsharpCorner ...</td>\n",
       "      <td>18.0</td>\n",
       "      <td>5.0</td>\n",
       "      <td>Fri May 01 15:43:27 +0000 2015</td>\n",
       "    </tr>\n",
       "  </tbody>\n",
       "</table>\n",
       "</div>"
      ],
      "text/plain": [
       "               id_str                                               text  \\\n",
       "0  594165361857069056  #MicrosoftBand SDK Available Now by @mcbeniwal...   \n",
       "1  594762014037180416  Learn Series of How to Crack Coding Interview ...   \n",
       "2  594754412456775681  RT @dbeniwal21: Free Ebook by @ksr007 Basic SQ...   \n",
       "3  591995296189534208  ServiceController Class in Windows Service by ...   \n",
       "4  592383013217939457  RT @mcbeniwal: Good #advice by @AnilAwadh on c...   \n",
       "5  594165671182802945  Are you ready &amp; #Excited for #Day3 #Build2...   \n",
       "6  592025506049961985  #Xamarin Guide 8: Change the App.cs to App.xam...   \n",
       "7  594787680254238720  MVC For Beginners: How to Save Record Using MV...   \n",
       "8  594165244273922048  #Build2015 Day3: About to start @CsharpCorner ...   \n",
       "\n",
       "   retweet_count  favorite_count                      created_at  \n",
       "0           19.0             4.0  Fri May 01 15:43:55 +0000 2015  \n",
       "1            3.0             3.0  Sun May 03 07:14:48 +0000 2015  \n",
       "2            5.0             0.0  Sun May 03 06:44:36 +0000 2015  \n",
       "3            2.0             0.0  Sat Apr 25 16:00:52 +0000 2015  \n",
       "4            1.0             0.0  Sun Apr 26 17:41:30 +0000 2015  \n",
       "5           20.0             4.0  Fri May 01 15:45:09 +0000 2015  \n",
       "6            0.0             0.0  Sat Apr 25 18:00:54 +0000 2015  \n",
       "7            0.0             1.0  Sun May 03 08:56:48 +0000 2015  \n",
       "8           18.0             5.0  Fri May 01 15:43:27 +0000 2015  "
      ]
     },
     "execution_count": 4,
     "metadata": {},
     "output_type": "execute_result"
    }
   ],
   "source": [
    "user_tweets = collection.find({'user.screen_name': 'CsharpCorner'})\n",
    "data = pd.DataFrame(list(user_tweets), columns=['id_str', 'text', 'retweet_count', 'favorite_count', 'created_at'])\n",
    "data"
   ]
  },
  {
   "cell_type": "markdown",
   "metadata": {},
   "source": [
    "#### Ver tweets con hashtag #Baltimore"
   ]
  },
  {
   "cell_type": "code",
   "execution_count": 5,
   "metadata": {},
   "outputs": [
    {
     "data": {
      "text/html": [
       "<div>\n",
       "<style scoped>\n",
       "    .dataframe tbody tr th:only-of-type {\n",
       "        vertical-align: middle;\n",
       "    }\n",
       "\n",
       "    .dataframe tbody tr th {\n",
       "        vertical-align: top;\n",
       "    }\n",
       "\n",
       "    .dataframe thead th {\n",
       "        text-align: right;\n",
       "    }\n",
       "</style>\n",
       "<table border=\"1\" class=\"dataframe\">\n",
       "  <thead>\n",
       "    <tr style=\"text-align: right;\">\n",
       "      <th></th>\n",
       "      <th>id_str</th>\n",
       "      <th>text</th>\n",
       "      <th>retweet_count</th>\n",
       "      <th>favorite_count</th>\n",
       "      <th>created_at</th>\n",
       "    </tr>\n",
       "  </thead>\n",
       "  <tbody>\n",
       "    <tr>\n",
       "      <th>0</th>\n",
       "      <td>594164218674294784</td>\n",
       "      <td>#Baltimore reacts to charges against six polic...</td>\n",
       "      <td>12.0</td>\n",
       "      <td>2.0</td>\n",
       "      <td>Fri May 01 15:39:23 +0000 2015</td>\n",
       "    </tr>\n",
       "    <tr>\n",
       "      <th>1</th>\n",
       "      <td>594160878444015618</td>\n",
       "      <td>RT @BBCNewsUS: #Baltimore police union says \"n...</td>\n",
       "      <td>76.0</td>\n",
       "      <td>0.0</td>\n",
       "      <td>Fri May 01 15:26:07 +0000 2015</td>\n",
       "    </tr>\n",
       "    <tr>\n",
       "      <th>2</th>\n",
       "      <td>592373717117890561</td>\n",
       "      <td>RT @BBCNewsUS: ICYMI: Thousands march in #Balt...</td>\n",
       "      <td>93.0</td>\n",
       "      <td>0.0</td>\n",
       "      <td>Sun Apr 26 17:04:34 +0000 2015</td>\n",
       "    </tr>\n",
       "    <tr>\n",
       "      <th>3</th>\n",
       "      <td>594154688720830464</td>\n",
       "      <td>MORE: 6 #Baltimore officers charged in #Freddi...</td>\n",
       "      <td>68.0</td>\n",
       "      <td>33.0</td>\n",
       "      <td>Fri May 01 15:01:31 +0000 2015</td>\n",
       "    </tr>\n",
       "    <tr>\n",
       "      <th>4</th>\n",
       "      <td>594157349679464450</td>\n",
       "      <td>#Baltimore State's attorney says all 6 officer...</td>\n",
       "      <td>45.0</td>\n",
       "      <td>28.0</td>\n",
       "      <td>Fri May 01 15:12:05 +0000 2015</td>\n",
       "    </tr>\n",
       "  </tbody>\n",
       "</table>\n",
       "</div>"
      ],
      "text/plain": [
       "               id_str                                               text  \\\n",
       "0  594164218674294784  #Baltimore reacts to charges against six polic...   \n",
       "1  594160878444015618  RT @BBCNewsUS: #Baltimore police union says \"n...   \n",
       "2  592373717117890561  RT @BBCNewsUS: ICYMI: Thousands march in #Balt...   \n",
       "3  594154688720830464  MORE: 6 #Baltimore officers charged in #Freddi...   \n",
       "4  594157349679464450  #Baltimore State's attorney says all 6 officer...   \n",
       "\n",
       "   retweet_count  favorite_count                      created_at  \n",
       "0           12.0             2.0  Fri May 01 15:39:23 +0000 2015  \n",
       "1           76.0             0.0  Fri May 01 15:26:07 +0000 2015  \n",
       "2           93.0             0.0  Sun Apr 26 17:04:34 +0000 2015  \n",
       "3           68.0            33.0  Fri May 01 15:01:31 +0000 2015  \n",
       "4           45.0            28.0  Fri May 01 15:12:05 +0000 2015  "
      ]
     },
     "execution_count": 5,
     "metadata": {},
     "output_type": "execute_result"
    }
   ],
   "source": [
    "hashtags = collection.find({'text': {'$regex': '#Baltimore'}})\n",
    "data = pd.DataFrame(list(hashtags), columns=['id_str', 'text', 'retweet_count', 'favorite_count', 'created_at'])\n",
    "data"
   ]
  },
  {
   "cell_type": "markdown",
   "metadata": {},
   "source": [
    "#### Mostrar la localización de un tweet"
   ]
  },
  {
   "cell_type": "code",
   "execution_count": 6,
   "metadata": {
    "scrolled": false
   },
   "outputs": [
    {
     "name": "stdout",
     "output_type": "stream",
     "text": [
      "[50.8212052, -0.13714063]\n"
     ]
    },
    {
     "data": {
      "text/html": [
       "<div style=\"width:100%;\"><div style=\"position:relative;width:100%;height:0;padding-bottom:60%;\"><iframe src=\"data:text/html;charset=utf-8;base64,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\" style=\"position:absolute;width:100%;height:100%;left:0;top:0;border:none !important;\" allowfullscreen webkitallowfullscreen mozallowfullscreen></iframe></div></div>"
      ],
      "text/plain": [
       "<folium.folium.Map at 0xc47d850>"
      ]
     },
     "execution_count": 6,
     "metadata": {},
     "output_type": "execute_result"
    }
   ],
   "source": [
    "user_geo = collection.find_one({'geo': {'$ne': None}})\n",
    "coordinates = user_geo['geo']['coordinates']\n",
    "place = user_geo['place']['full_name']\n",
    "print(coordinates)\n",
    "\n",
    "map = folium.Map(location=coordinates, zoom_start=12, tiles='OpenStreetMap')\n",
    "folium.Marker(coordinates, popup=place).add_to(map)\n",
    "map"
   ]
  },
  {
   "cell_type": "markdown",
   "metadata": {},
   "source": [
    "#### El usuario con más seguidores"
   ]
  },
  {
   "cell_type": "code",
   "execution_count": 7,
   "metadata": {},
   "outputs": [
    {
     "name": "stdout",
     "output_type": "stream",
     "text": [
      "Barack Obama\n",
      "13440 tweets\n",
      "58672161 followers\n",
      "This account is run by Organizing for Action staff. Tweets from the President are signed -bo.\n"
     ]
    },
    {
     "data": {
      "text/html": [
       "<img src=\"https://avatars.io/twitter/BarackObama\"/>"
      ],
      "text/plain": [
       "<IPython.core.display.Image object>"
      ]
     },
     "execution_count": 7,
     "metadata": {},
     "output_type": "execute_result"
    }
   ],
   "source": [
    "max_followers = collection.find().sort('user.followers_count', -1).limit(1)\n",
    "user = max_followers[0]['user']\n",
    "print(user['name'])\n",
    "print(int(user['statuses_count']), 'tweets')\n",
    "print(int(user['followers_count']), 'followers')\n",
    "print(user['description'])\n",
    "\n",
    "from IPython.display import Image\n",
    "from IPython.core.display import HTML \n",
    "Image(url='https://avatars.io/twitter/'+user['screen_name'])"
   ]
  },
  {
   "cell_type": "markdown",
   "metadata": {},
   "source": [
    "#### Tweets agrupados por idioma"
   ]
  },
  {
   "cell_type": "code",
   "execution_count": 8,
   "metadata": {
    "scrolled": true
   },
   "outputs": [
    {
     "data": {
      "image/png": "[encoded data removed]",
      "text/plain": [
       "<Figure size 720x360 with 1 Axes>"
      ]
     },
     "metadata": {
      "needs_background": "light"
     },
     "output_type": "display_data"
    }
   ],
   "source": [
    "tweets_by_lang = [\n",
    "    {'$group': {'_id': '$lang', 'count': {'$sum': 1}}},\n",
    "    {'$sort': {'count': 1}}\n",
    "]\n",
    "result = collection.aggregate(tweets_by_lang)\n",
    "data = pd.DataFrame(list(result))\n",
    "\n",
    "plt.figure(figsize=(10, 5))\n",
    "plt.bar(data['_id'], data['count'])\n",
    "plt.show()"
   ]
  },
  {
   "cell_type": "markdown",
   "metadata": {},
   "source": [
    "#### Tweets agrupados por fuente"
   ]
  },
  {
   "cell_type": "code",
   "execution_count": 9,
   "metadata": {},
   "outputs": [
    {
     "data": {
      "image/png": "[encoded data removed]",
      "text/plain": [
       "<Figure size 720x360 with 1 Axes>"
      ]
     },
     "metadata": {},
     "output_type": "display_data"
    }
   ],
   "source": [
    "tweets_by_source = [\n",
    "    {'$group': {'_id': '$source', 'count': {'$sum': 1}}},\n",
    "    {'$sort': {'count': -1}},\n",
    "    {'$limit': 10}\n",
    "]\n",
    "result = collection.aggregate(tweets_by_source)\n",
    "data = pd.DataFrame(list(result))\n",
    "\n",
    "plt.figure(figsize=(10, 5))\n",
    "plt.pie(data['count'], labels=data['_id'], autopct='%1.1f%%')\n",
    "plt.show()"
   ]
  },
  {
   "cell_type": "markdown",
   "metadata": {},
   "source": [
    "#### Los 10 tweets más recientes"
   ]
  },
  {
   "cell_type": "code",
   "execution_count": 10,
   "metadata": {},
   "outputs": [
    {
     "data": {
      "text/html": [
       "<div>\n",
       "<style scoped>\n",
       "    .dataframe tbody tr th:only-of-type {\n",
       "        vertical-align: middle;\n",
       "    }\n",
       "\n",
       "    .dataframe tbody tr th {\n",
       "        vertical-align: top;\n",
       "    }\n",
       "\n",
       "    .dataframe thead th {\n",
       "        text-align: right;\n",
       "    }\n",
       "</style>\n",
       "<table border=\"1\" class=\"dataframe\">\n",
       "  <thead>\n",
       "    <tr style=\"text-align: right;\">\n",
       "      <th></th>\n",
       "      <th>_id</th>\n",
       "      <th>user</th>\n",
       "      <th>text</th>\n",
       "      <th>created_at</th>\n",
       "    </tr>\n",
       "  </thead>\n",
       "  <tbody>\n",
       "    <tr>\n",
       "      <th>0</th>\n",
       "      <td>594789566252453889</td>\n",
       "      <td>ameanmbot</td>\n",
       "      <td>RT @rvanhoepen: My @Quora answer to Is Angular...</td>\n",
       "      <td>2015-05-03 09:04:17</td>\n",
       "    </tr>\n",
       "    <tr>\n",
       "      <th>1</th>\n",
       "      <td>594789484916514816</td>\n",
       "      <td>ameanmbot</td>\n",
       "      <td>RT @kazuyadesse: 2件のコメント http://t.co/w6K1Dw6IJ...</td>\n",
       "      <td>2015-05-03 09:03:58</td>\n",
       "    </tr>\n",
       "    <tr>\n",
       "      <th>2</th>\n",
       "      <td>594789034016268288</td>\n",
       "      <td>ameanmbot</td>\n",
       "      <td>RT @haduart: Interesting #couchdb weekly http:...</td>\n",
       "      <td>2015-05-03 09:02:11</td>\n",
       "    </tr>\n",
       "    <tr>\n",
       "      <th>3</th>\n",
       "      <td>594788972854902784</td>\n",
       "      <td>mashable</td>\n",
       "      <td>An affordable, real gold Apple Watch can be yo...</td>\n",
       "      <td>2015-05-03 09:01:56</td>\n",
       "    </tr>\n",
       "    <tr>\n",
       "      <th>4</th>\n",
       "      <td>594788791329632256</td>\n",
       "      <td>ameanmbot</td>\n",
       "      <td>RT @findmjob: Backend Devloper http://t.co/7dk...</td>\n",
       "      <td>2015-05-03 09:01:13</td>\n",
       "    </tr>\n",
       "    <tr>\n",
       "      <th>5</th>\n",
       "      <td>594788703018573824</td>\n",
       "      <td>ameanmbot</td>\n",
       "      <td>RT @webinara: RT: http://t.co/38hiPyvCAL #webi...</td>\n",
       "      <td>2015-05-03 09:00:52</td>\n",
       "    </tr>\n",
       "    <tr>\n",
       "      <th>6</th>\n",
       "      <td>594788642431852544</td>\n",
       "      <td>javacodegeeks</td>\n",
       "      <td>Testing with #Mockito - Kick-ass #Java Code Ge...</td>\n",
       "      <td>2015-05-03 09:00:37</td>\n",
       "    </tr>\n",
       "    <tr>\n",
       "      <th>7</th>\n",
       "      <td>594788594570686464</td>\n",
       "      <td>Inc</td>\n",
       "      <td>9 Interview Questions Ideo Asks @IlanMochari h...</td>\n",
       "      <td>2015-05-03 09:00:26</td>\n",
       "    </tr>\n",
       "    <tr>\n",
       "      <th>8</th>\n",
       "      <td>594788595652829184</td>\n",
       "      <td>ameanmbot</td>\n",
       "      <td>RT @webcodegeeks: A canonical web test in Node...</td>\n",
       "      <td>2015-05-03 09:00:26</td>\n",
       "    </tr>\n",
       "    <tr>\n",
       "      <th>9</th>\n",
       "      <td>594788522315292673</td>\n",
       "      <td>ChelseaFC</td>\n",
       "      <td>Keep up with the Blues today... http://t.co/Em...</td>\n",
       "      <td>2015-05-03 09:00:09</td>\n",
       "    </tr>\n",
       "  </tbody>\n",
       "</table>\n",
       "</div>"
      ],
      "text/plain": [
       "                  _id           user  \\\n",
       "0  594789566252453889      ameanmbot   \n",
       "1  594789484916514816      ameanmbot   \n",
       "2  594789034016268288      ameanmbot   \n",
       "3  594788972854902784       mashable   \n",
       "4  594788791329632256      ameanmbot   \n",
       "5  594788703018573824      ameanmbot   \n",
       "6  594788642431852544  javacodegeeks   \n",
       "7  594788594570686464            Inc   \n",
       "8  594788595652829184      ameanmbot   \n",
       "9  594788522315292673      ChelseaFC   \n",
       "\n",
       "                                                text          created_at  \n",
       "0  RT @rvanhoepen: My @Quora answer to Is Angular... 2015-05-03 09:04:17  \n",
       "1  RT @kazuyadesse: 2件のコメント http://t.co/w6K1Dw6IJ... 2015-05-03 09:03:58  \n",
       "2  RT @haduart: Interesting #couchdb weekly http:... 2015-05-03 09:02:11  \n",
       "3  An affordable, real gold Apple Watch can be yo... 2015-05-03 09:01:56  \n",
       "4  RT @findmjob: Backend Devloper http://t.co/7dk... 2015-05-03 09:01:13  \n",
       "5  RT @webinara: RT: http://t.co/38hiPyvCAL #webi... 2015-05-03 09:00:52  \n",
       "6  Testing with #Mockito - Kick-ass #Java Code Ge... 2015-05-03 09:00:37  \n",
       "7  9 Interview Questions Ideo Asks @IlanMochari h... 2015-05-03 09:00:26  \n",
       "8  RT @webcodegeeks: A canonical web test in Node... 2015-05-03 09:00:26  \n",
       "9  Keep up with the Blues today... http://t.co/Em... 2015-05-03 09:00:09  "
      ]
     },
     "execution_count": 10,
     "metadata": {},
     "output_type": "execute_result"
    }
   ],
   "source": [
    "tweets_by_date = [\n",
    "    {'$project': {'_id': '$id_str', 'text': '$text', 'user': '$user.screen_name',\n",
    "                  'created_at': {'$dateFromString': {'dateString': '$created_at'}}\n",
    "                 }\n",
    "    }, \n",
    "    {'$sort': {'created_at': -1}},\n",
    "    {'$limit': 10}\n",
    "]\n",
    "result = collection.aggregate(tweets_by_date)\n",
    "data = pd.DataFrame(list(result), columns=['_id', 'user', 'text', 'created_at'])\n",
    "data"
   ]
  },
  {
   "cell_type": "code",
   "execution_count": null,
   "metadata": {},
   "outputs": [],
   "source": []
  }
 ],
 "metadata": {
  "kernelspec": {
   "display_name": "Python 3",
   "language": "python",
   "name": "python3"
  },
  "language_info": {
   "codemirror_mode": {
    "name": "ipython",
    "version": 3
   },
   "file_extension": ".py",
   "mimetype": "text/x-python",
   "name": "python",
   "nbconvert_exporter": "python",
   "pygments_lexer": "ipython3",
   "version": "3.7.2"
  }
 },
 "nbformat": 4,
 "nbformat_minor": 2
}
